{
 "cells": [
  {
   "cell_type": "code",
   "execution_count": 1,
   "metadata": {},
   "outputs": [],
   "source": [
    "# Dependencies and Setup\n",
    "%matplotlib inline\n",
    "import matplotlib.pyplot as plt\n",
    "import pandas as pd\n",
    "import numpy as np\n",
    "from scipy.stats import linregress\n",
    "from scipy.stats import sem\n",
    "\n",
    "# Hide warning messages in notebook\n",
    "import warnings\n",
    "warnings.filterwarnings(\"ignore\")"
   ]
  },
  {
   "cell_type": "code",
   "execution_count": 2,
   "metadata": {},
   "outputs": [
    {
     "data": {
      "text/html": [
       "<div>\n",
       "<style scoped>\n",
       "    .dataframe tbody tr th:only-of-type {\n",
       "        vertical-align: middle;\n",
       "    }\n",
       "\n",
       "    .dataframe tbody tr th {\n",
       "        vertical-align: top;\n",
       "    }\n",
       "\n",
       "    .dataframe thead th {\n",
       "        text-align: right;\n",
       "    }\n",
       "</style>\n",
       "<table border=\"1\" class=\"dataframe\">\n",
       "  <thead>\n",
       "    <tr style=\"text-align: right;\">\n",
       "      <th></th>\n",
       "      <th>Mouse ID</th>\n",
       "      <th>Drug</th>\n",
       "      <th>Timepoint</th>\n",
       "      <th>Tumor Volume (mm3)</th>\n",
       "      <th>Metastatic Sites</th>\n",
       "    </tr>\n",
       "  </thead>\n",
       "  <tbody>\n",
       "    <tr>\n",
       "      <th>0</th>\n",
       "      <td>f234</td>\n",
       "      <td>Stelasyn</td>\n",
       "      <td>0</td>\n",
       "      <td>45.000000</td>\n",
       "      <td>0</td>\n",
       "    </tr>\n",
       "    <tr>\n",
       "      <th>1</th>\n",
       "      <td>f234</td>\n",
       "      <td>Stelasyn</td>\n",
       "      <td>5</td>\n",
       "      <td>47.313491</td>\n",
       "      <td>0</td>\n",
       "    </tr>\n",
       "    <tr>\n",
       "      <th>2</th>\n",
       "      <td>f234</td>\n",
       "      <td>Stelasyn</td>\n",
       "      <td>10</td>\n",
       "      <td>47.904324</td>\n",
       "      <td>0</td>\n",
       "    </tr>\n",
       "    <tr>\n",
       "      <th>3</th>\n",
       "      <td>f234</td>\n",
       "      <td>Stelasyn</td>\n",
       "      <td>15</td>\n",
       "      <td>48.735197</td>\n",
       "      <td>1</td>\n",
       "    </tr>\n",
       "    <tr>\n",
       "      <th>4</th>\n",
       "      <td>f234</td>\n",
       "      <td>Stelasyn</td>\n",
       "      <td>20</td>\n",
       "      <td>51.112713</td>\n",
       "      <td>2</td>\n",
       "    </tr>\n",
       "  </tbody>\n",
       "</table>\n",
       "</div>"
      ],
      "text/plain": [
       "  Mouse ID      Drug  Timepoint  Tumor Volume (mm3)  Metastatic Sites\n",
       "0     f234  Stelasyn          0           45.000000                 0\n",
       "1     f234  Stelasyn          5           47.313491                 0\n",
       "2     f234  Stelasyn         10           47.904324                 0\n",
       "3     f234  Stelasyn         15           48.735197                 1\n",
       "4     f234  Stelasyn         20           51.112713                 2"
      ]
     },
     "execution_count": 2,
     "metadata": {},
     "output_type": "execute_result"
    }
   ],
   "source": [
    "# Declare where are the files to load, then read them as CSV and merge them (using the \"Mouse ID\")\n",
    "mouse_data = pd.read_csv(\"data/mouse_drug_data.csv\")\n",
    "clinical_data = pd.read_csv(\"data/clinicaltrial_data.csv\")\n",
    "tutti_data = pd.merge(mouse_data, clinical_data, how=\"outer\", on=\"Mouse ID\" )\n",
    "\n",
    "# General exploration of the data\n",
    "#tutti_data.info()\n",
    "#tutti_data.describe()\n",
    "tutti_data.head()"
   ]
  },
  {
   "cell_type": "code",
   "execution_count": 3,
   "metadata": {},
   "outputs": [],
   "source": [
    "# Second version, with Timepoint as \"object\" instead of integer\n",
    "# Declare where are the files to load, then read them as CSV and merge them (using the \"Mouse ID\")\n",
    "mouse_data = pd.read_csv(\"data/mouse_drug_data.csv\")\n",
    "clinical_data = pd.read_csv(\"data/clinicaltrial_data.csv\")\n",
    "tutti_data_v2 = pd.merge(mouse_data, clinical_data, how=\"outer\", on=\"Mouse ID\" )\n",
    "\n",
    "# Adjusting Timepoints as objects, instead of integers (if needed)\n",
    "tutti_data_v2[\"Timepoint\"] = tutti_data_v2[\"Timepoint\"].astype(\"object\")\n",
    "\n",
    "# General exploration of the data\n",
    "#tutti_data_v2.info()\n",
    "#tutti_data.dtypes\n",
    "#tutti_data_v2.head()\n",
    "\n",
    "# Third version, setting the 'Mouse ID' to be our index for easy referencing of rows\n",
    "tutti_data_reindex = tutti_data.set_index(\"Mouse ID\")\n",
    "#tutti_data_reindex.head()"
   ]
  },
  {
   "cell_type": "code",
   "execution_count": 4,
   "metadata": {},
   "outputs": [
    {
     "data": {
      "text/html": [
       "<div>\n",
       "<style scoped>\n",
       "    .dataframe tbody tr th:only-of-type {\n",
       "        vertical-align: middle;\n",
       "    }\n",
       "\n",
       "    .dataframe tbody tr th {\n",
       "        vertical-align: top;\n",
       "    }\n",
       "\n",
       "    .dataframe thead th {\n",
       "        text-align: right;\n",
       "    }\n",
       "</style>\n",
       "<table border=\"1\" class=\"dataframe\">\n",
       "  <thead>\n",
       "    <tr style=\"text-align: right;\">\n",
       "      <th></th>\n",
       "      <th></th>\n",
       "      <th>Mean Tumor Volume (mm3)</th>\n",
       "    </tr>\n",
       "    <tr>\n",
       "      <th>Drug</th>\n",
       "      <th>Timepoint</th>\n",
       "      <th></th>\n",
       "    </tr>\n",
       "  </thead>\n",
       "  <tbody>\n",
       "    <tr>\n",
       "      <th rowspan=\"5\" valign=\"top\">Capomulin</th>\n",
       "      <th>0</th>\n",
       "      <td>45.000000</td>\n",
       "    </tr>\n",
       "    <tr>\n",
       "      <th>5</th>\n",
       "      <td>44.266086</td>\n",
       "    </tr>\n",
       "    <tr>\n",
       "      <th>10</th>\n",
       "      <td>43.084291</td>\n",
       "    </tr>\n",
       "    <tr>\n",
       "      <th>15</th>\n",
       "      <td>42.064317</td>\n",
       "    </tr>\n",
       "    <tr>\n",
       "      <th>20</th>\n",
       "      <td>40.716325</td>\n",
       "    </tr>\n",
       "  </tbody>\n",
       "</table>\n",
       "</div>"
      ],
      "text/plain": [
       "                     Mean Tumor Volume (mm3)\n",
       "Drug      Timepoint                         \n",
       "Capomulin 0                        45.000000\n",
       "          5                        44.266086\n",
       "          10                       43.084291\n",
       "          15                       42.064317\n",
       "          20                       40.716325"
      ]
     },
     "execution_count": 4,
     "metadata": {},
     "output_type": "execute_result"
    }
   ],
   "source": [
    "# With original data (no re-index, no timepoint as object)\n",
    "# Store the variable requested (e.g., Mean Tumor Volume) Grouped by Drug and Timepoint \n",
    "g_by_d_and_t = tutti_data.groupby([\"Drug\", \"Timepoint\"])\n",
    "mtv = g_by_d_and_t[\"Tumor Volume (mm3)\"].mean()\n",
    "mms = g_by_d_and_t[\"Metastatic Sites\"].mean()\n",
    "n_mice = g_by_d_and_t[\"Mouse ID\"].nunique()\n",
    "mtv_se = g_by_d_and_t[\"Tumor Volume (mm3)\"].sem()\n",
    "mms_se = g_by_d_and_t[\"Metastatic Sites\"].sem()\n",
    "\n",
    "# Convert to DataFrames\n",
    "mtv_by_drug_time_df = pd.DataFrame({\"Mean Tumor Volume (mm3)\" : mtv})\n",
    "mms_by_drug_time_df = pd.DataFrame({\"Mean Metastatic Sites\" : mms})\n",
    "nmice_by_drug_time_df = pd.DataFrame({\"Mouse Count\" : n_mice})\n",
    "\n",
    "# Task 1. Tumor Response to Treatment\n",
    "# Task 1.1 Preview DataFrame\n",
    "mtv_by_drug_time_df.head()"
   ]
  },
  {
   "cell_type": "code",
   "execution_count": 5,
   "metadata": {},
   "outputs": [
    {
     "data": {
      "text/html": [
       "<div>\n",
       "<style scoped>\n",
       "    .dataframe tbody tr th:only-of-type {\n",
       "        vertical-align: middle;\n",
       "    }\n",
       "\n",
       "    .dataframe tbody tr th {\n",
       "        vertical-align: top;\n",
       "    }\n",
       "\n",
       "    .dataframe thead th {\n",
       "        text-align: right;\n",
       "    }\n",
       "</style>\n",
       "<table border=\"1\" class=\"dataframe\">\n",
       "  <thead>\n",
       "    <tr style=\"text-align: right;\">\n",
       "      <th></th>\n",
       "      <th></th>\n",
       "      <th>Tumor Volume Standard Error</th>\n",
       "    </tr>\n",
       "    <tr>\n",
       "      <th>Drug</th>\n",
       "      <th>Timepoint</th>\n",
       "      <th></th>\n",
       "    </tr>\n",
       "  </thead>\n",
       "  <tbody>\n",
       "    <tr>\n",
       "      <th rowspan=\"5\" valign=\"top\">Capomulin</th>\n",
       "      <th>0</th>\n",
       "      <td>0.000000</td>\n",
       "    </tr>\n",
       "    <tr>\n",
       "      <th>5</th>\n",
       "      <td>0.448593</td>\n",
       "    </tr>\n",
       "    <tr>\n",
       "      <th>10</th>\n",
       "      <td>0.702684</td>\n",
       "    </tr>\n",
       "    <tr>\n",
       "      <th>15</th>\n",
       "      <td>0.838617</td>\n",
       "    </tr>\n",
       "    <tr>\n",
       "      <th>20</th>\n",
       "      <td>0.909731</td>\n",
       "    </tr>\n",
       "  </tbody>\n",
       "</table>\n",
       "</div>"
      ],
      "text/plain": [
       "                     Tumor Volume Standard Error\n",
       "Drug      Timepoint                             \n",
       "Capomulin 0                             0.000000\n",
       "          5                             0.448593\n",
       "          10                            0.702684\n",
       "          15                            0.838617\n",
       "          20                            0.909731"
      ]
     },
     "execution_count": 5,
     "metadata": {},
     "output_type": "execute_result"
    }
   ],
   "source": [
    "# Task 1.2 Store the Standard Error of WHATEVER Grouped by Drug and Timepoint\n",
    "se_mtv_by_drug_time_df = pd.DataFrame({\"Tumor Volume Standard Error\": mtv_se})\n",
    "se_mms_by_drug_time_df = pd.DataFrame({\"Metastatic Sites Standard Error\" : mms_se})\n",
    "\n",
    "# Task 1.2 Preview\n",
    "se_mtv_by_drug_time_df.head()"
   ]
  },
  {
   "cell_type": "code",
   "execution_count": 6,
   "metadata": {},
   "outputs": [
    {
     "data": {
      "text/html": [
       "<div>\n",
       "<style scoped>\n",
       "    .dataframe tbody tr th:only-of-type {\n",
       "        vertical-align: middle;\n",
       "    }\n",
       "\n",
       "    .dataframe tbody tr th {\n",
       "        vertical-align: top;\n",
       "    }\n",
       "\n",
       "    .dataframe thead th {\n",
       "        text-align: right;\n",
       "    }\n",
       "</style>\n",
       "<table border=\"1\" class=\"dataframe\">\n",
       "  <thead>\n",
       "    <tr style=\"text-align: right;\">\n",
       "      <th>Drug</th>\n",
       "      <th>Capomulin</th>\n",
       "      <th>Ceftamin</th>\n",
       "      <th>Infubinol</th>\n",
       "      <th>Ketapril</th>\n",
       "      <th>Naftisol</th>\n",
       "      <th>Placebo</th>\n",
       "      <th>Propriva</th>\n",
       "      <th>Ramicane</th>\n",
       "      <th>Stelasyn</th>\n",
       "      <th>Zoniferol</th>\n",
       "    </tr>\n",
       "    <tr>\n",
       "      <th>Timepoint</th>\n",
       "      <th></th>\n",
       "      <th></th>\n",
       "      <th></th>\n",
       "      <th></th>\n",
       "      <th></th>\n",
       "      <th></th>\n",
       "      <th></th>\n",
       "      <th></th>\n",
       "      <th></th>\n",
       "      <th></th>\n",
       "    </tr>\n",
       "  </thead>\n",
       "  <tbody>\n",
       "    <tr>\n",
       "      <th>0</th>\n",
       "      <td>45.000000</td>\n",
       "      <td>45.000000</td>\n",
       "      <td>45.000000</td>\n",
       "      <td>45.000000</td>\n",
       "      <td>45.000000</td>\n",
       "      <td>45.000000</td>\n",
       "      <td>45.000000</td>\n",
       "      <td>45.000000</td>\n",
       "      <td>45.000000</td>\n",
       "      <td>45.000000</td>\n",
       "    </tr>\n",
       "    <tr>\n",
       "      <th>5</th>\n",
       "      <td>44.266086</td>\n",
       "      <td>46.503051</td>\n",
       "      <td>47.062001</td>\n",
       "      <td>47.389175</td>\n",
       "      <td>46.796098</td>\n",
       "      <td>47.125589</td>\n",
       "      <td>47.248967</td>\n",
       "      <td>43.944859</td>\n",
       "      <td>47.527452</td>\n",
       "      <td>46.851818</td>\n",
       "    </tr>\n",
       "    <tr>\n",
       "      <th>10</th>\n",
       "      <td>43.084291</td>\n",
       "      <td>48.285125</td>\n",
       "      <td>49.403909</td>\n",
       "      <td>49.582269</td>\n",
       "      <td>48.694210</td>\n",
       "      <td>49.423329</td>\n",
       "      <td>49.101541</td>\n",
       "      <td>42.531957</td>\n",
       "      <td>49.463844</td>\n",
       "      <td>48.689881</td>\n",
       "    </tr>\n",
       "    <tr>\n",
       "      <th>15</th>\n",
       "      <td>42.064317</td>\n",
       "      <td>50.094055</td>\n",
       "      <td>51.296397</td>\n",
       "      <td>52.399974</td>\n",
       "      <td>50.933018</td>\n",
       "      <td>51.359742</td>\n",
       "      <td>51.067318</td>\n",
       "      <td>41.495061</td>\n",
       "      <td>51.529409</td>\n",
       "      <td>50.779059</td>\n",
       "    </tr>\n",
       "    <tr>\n",
       "      <th>20</th>\n",
       "      <td>40.716325</td>\n",
       "      <td>52.157049</td>\n",
       "      <td>53.197691</td>\n",
       "      <td>54.920935</td>\n",
       "      <td>53.644087</td>\n",
       "      <td>54.364417</td>\n",
       "      <td>53.346737</td>\n",
       "      <td>40.238325</td>\n",
       "      <td>54.067395</td>\n",
       "      <td>53.170334</td>\n",
       "    </tr>\n",
       "  </tbody>\n",
       "</table>\n",
       "</div>"
      ],
      "text/plain": [
       "Drug       Capomulin   Ceftamin  Infubinol   Ketapril   Naftisol    Placebo  \\\n",
       "Timepoint                                                                     \n",
       "0          45.000000  45.000000  45.000000  45.000000  45.000000  45.000000   \n",
       "5          44.266086  46.503051  47.062001  47.389175  46.796098  47.125589   \n",
       "10         43.084291  48.285125  49.403909  49.582269  48.694210  49.423329   \n",
       "15         42.064317  50.094055  51.296397  52.399974  50.933018  51.359742   \n",
       "20         40.716325  52.157049  53.197691  54.920935  53.644087  54.364417   \n",
       "\n",
       "Drug        Propriva   Ramicane   Stelasyn  Zoniferol  \n",
       "Timepoint                                              \n",
       "0          45.000000  45.000000  45.000000  45.000000  \n",
       "5          47.248967  43.944859  47.527452  46.851818  \n",
       "10         49.101541  42.531957  49.463844  48.689881  \n",
       "15         51.067318  41.495061  51.529409  50.779059  \n",
       "20         53.346737  40.238325  54.067395  53.170334  "
      ]
     },
     "execution_count": 6,
     "metadata": {},
     "output_type": "execute_result"
    }
   ],
   "source": [
    "# 1.3 Minor Data Munging to Re-Format the Data Frames\n",
    "# Using Pivot_table, then rearange the columns\n",
    "munging_mtv = pd.pivot_table(mtv_by_drug_time_df,values=\"Mean Tumor Volume (mm3)\", index=\"Timepoint\", columns=\"Drug\")\n",
    "munging_se_mtv = pd.pivot_table(se_mtv_by_drug_time_df,values=\"Tumor Volume Standard Error\", index=\"Timepoint\", columns=\"Drug\")\n",
    "\n",
    "# 1.3 Preview of reformatted work\n",
    "munging_mtv.head()\n",
    "#munging_se_mtv.head()"
   ]
  },
  {
   "cell_type": "code",
   "execution_count": 7,
   "metadata": {},
   "outputs": [
    {
     "data": {
      "text/html": [
       "<div>\n",
       "<style scoped>\n",
       "    .dataframe tbody tr th:only-of-type {\n",
       "        vertical-align: middle;\n",
       "    }\n",
       "\n",
       "    .dataframe tbody tr th {\n",
       "        vertical-align: top;\n",
       "    }\n",
       "\n",
       "    .dataframe thead th {\n",
       "        text-align: right;\n",
       "    }\n",
       "</style>\n",
       "<table border=\"1\" class=\"dataframe\">\n",
       "  <thead>\n",
       "    <tr style=\"text-align: right;\">\n",
       "      <th>Timepoint</th>\n",
       "      <th>0</th>\n",
       "      <th>5</th>\n",
       "      <th>10</th>\n",
       "      <th>15</th>\n",
       "      <th>20</th>\n",
       "      <th>25</th>\n",
       "      <th>30</th>\n",
       "      <th>35</th>\n",
       "      <th>40</th>\n",
       "      <th>45</th>\n",
       "    </tr>\n",
       "    <tr>\n",
       "      <th>Drug</th>\n",
       "      <th></th>\n",
       "      <th></th>\n",
       "      <th></th>\n",
       "      <th></th>\n",
       "      <th></th>\n",
       "      <th></th>\n",
       "      <th></th>\n",
       "      <th></th>\n",
       "      <th></th>\n",
       "      <th></th>\n",
       "    </tr>\n",
       "  </thead>\n",
       "  <tbody>\n",
       "    <tr>\n",
       "      <th>Capomulin</th>\n",
       "      <td>45.0</td>\n",
       "      <td>44.266086</td>\n",
       "      <td>43.084291</td>\n",
       "      <td>42.064317</td>\n",
       "      <td>40.716325</td>\n",
       "      <td>39.939528</td>\n",
       "      <td>38.769339</td>\n",
       "      <td>37.816839</td>\n",
       "      <td>36.958001</td>\n",
       "      <td>36.236114</td>\n",
       "    </tr>\n",
       "    <tr>\n",
       "      <th>Ceftamin</th>\n",
       "      <td>45.0</td>\n",
       "      <td>46.503051</td>\n",
       "      <td>48.285125</td>\n",
       "      <td>50.094055</td>\n",
       "      <td>52.157049</td>\n",
       "      <td>54.287674</td>\n",
       "      <td>56.769517</td>\n",
       "      <td>58.827548</td>\n",
       "      <td>61.467895</td>\n",
       "      <td>64.132421</td>\n",
       "    </tr>\n",
       "    <tr>\n",
       "      <th>Infubinol</th>\n",
       "      <td>45.0</td>\n",
       "      <td>47.062001</td>\n",
       "      <td>49.403909</td>\n",
       "      <td>51.296397</td>\n",
       "      <td>53.197691</td>\n",
       "      <td>55.715252</td>\n",
       "      <td>58.299397</td>\n",
       "      <td>60.742461</td>\n",
       "      <td>63.162824</td>\n",
       "      <td>65.755562</td>\n",
       "    </tr>\n",
       "    <tr>\n",
       "      <th>Ketapril</th>\n",
       "      <td>45.0</td>\n",
       "      <td>47.389175</td>\n",
       "      <td>49.582269</td>\n",
       "      <td>52.399974</td>\n",
       "      <td>54.920935</td>\n",
       "      <td>57.678982</td>\n",
       "      <td>60.994507</td>\n",
       "      <td>63.371686</td>\n",
       "      <td>66.068580</td>\n",
       "      <td>70.662958</td>\n",
       "    </tr>\n",
       "    <tr>\n",
       "      <th>Naftisol</th>\n",
       "      <td>45.0</td>\n",
       "      <td>46.796098</td>\n",
       "      <td>48.694210</td>\n",
       "      <td>50.933018</td>\n",
       "      <td>53.644087</td>\n",
       "      <td>56.731968</td>\n",
       "      <td>59.559509</td>\n",
       "      <td>62.685087</td>\n",
       "      <td>65.600754</td>\n",
       "      <td>69.265506</td>\n",
       "    </tr>\n",
       "  </tbody>\n",
       "</table>\n",
       "</div>"
      ],
      "text/plain": [
       "Timepoint    0          5          10         15         20         25  \\\n",
       "Drug                                                                     \n",
       "Capomulin  45.0  44.266086  43.084291  42.064317  40.716325  39.939528   \n",
       "Ceftamin   45.0  46.503051  48.285125  50.094055  52.157049  54.287674   \n",
       "Infubinol  45.0  47.062001  49.403909  51.296397  53.197691  55.715252   \n",
       "Ketapril   45.0  47.389175  49.582269  52.399974  54.920935  57.678982   \n",
       "Naftisol   45.0  46.796098  48.694210  50.933018  53.644087  56.731968   \n",
       "\n",
       "Timepoint         30         35         40         45  \n",
       "Drug                                                   \n",
       "Capomulin  38.769339  37.816839  36.958001  36.236114  \n",
       "Ceftamin   56.769517  58.827548  61.467895  64.132421  \n",
       "Infubinol  58.299397  60.742461  63.162824  65.755562  \n",
       "Ketapril   60.994507  63.371686  66.068580  70.662958  \n",
       "Naftisol   59.559509  62.685087  65.600754  69.265506  "
      ]
     },
     "execution_count": 7,
     "metadata": {},
     "output_type": "execute_result"
    }
   ],
   "source": [
    "# 1.3 Variation of Minor Data Munging to Re-Format the Data Frames\n",
    "# Using Pivot_table, then rearange the columns\n",
    "py_mtv = pd.pivot_table(mtv_by_drug_time_df,values=\"Mean Tumor Volume (mm3)\", index=\"Drug\", columns=\"Timepoint\")\n",
    "py_se_mtv = pd.pivot_table(se_mtv_by_drug_time_df,values=\"Tumor Volume Standard Error\", index=\"Drug\", columns=\"Timepoint\")\n",
    "\n",
    "# 1.3 Preview of reformatte worked\n",
    "py_mtv.head()\n",
    "#py_se_mtv.head()"
   ]
  },
  {
   "cell_type": "code",
   "execution_count": 8,
   "metadata": {},
   "outputs": [
    {
     "name": "stdout",
     "output_type": "stream",
     "text": [
      "Int64Index([0, 5, 10, 15, 20, 25, 30, 35, 40, 45], dtype='int64', name='Timepoint')\n"
     ]
    }
   ],
   "source": [
    "# Collect whatever data, then you will be able to collect the name of columns\n",
    "mean_whatever = py_mtv.mean()\n",
    "\n",
    "# Collect the timepoints where data was collected\n",
    "timepoints = mean_whatever.keys()\n",
    "print(timepoints)"
   ]
  },
  {
   "cell_type": "code",
   "execution_count": 14,
   "metadata": {},
   "outputs": [
    {
     "data": {
      "image/png": "[encoded data removed]",
      "text/plain": [
       "<Figure size 432x288 with 1 Axes>"
      ]
     },
     "metadata": {
      "needs_background": "light"
     },
     "output_type": "display_data"
    }
   ],
   "source": [
    "# THIS KIND OF WORK, BUT NOT YET. 1.4 # Generate the Plot (with Error Bars)\n",
    "fig, ax = plt.subplots()\n",
    "ax.errorbar(np.arange(0, len(munging_se_mtv), 1)+1, munging_mtv[\"Capomulin\"], marker=\"o\", yerr=munging_se_mtv[\"Capomulin\"], label=\"Capomulin\")\n",
    "ax.set_xlim(0, len(munging_mtv)+1)\n",
    "ax.set_xlabel(\"Time\")\n",
    "ax.set_ylabel(\"Mean Tumor Volume\")\n",
    "plt.legend(loc=\"best\", fontsize=\"small\", fancybox=True)\n",
    "plt.show()"
   ]
  },
  {
   "cell_type": "code",
   "execution_count": 15,
   "metadata": {},
   "outputs": [
    {
     "ename": "SyntaxError",
     "evalue": "invalid syntax (<ipython-input-15-9045169cbd04>, line 3)",
     "output_type": "error",
     "traceback": [
      "\u001b[0;36m  File \u001b[0;32m\"<ipython-input-15-9045169cbd04>\"\u001b[0;36m, line \u001b[0;32m3\u001b[0m\n\u001b[0;31m    fig, ax =\u001b[0m\n\u001b[0m              ^\u001b[0m\n\u001b[0;31mSyntaxError\u001b[0m\u001b[0;31m:\u001b[0m invalid syntax\n"
     ]
    }
   ],
   "source": [
    "# THIS KIND OF WORK, BUT NOT YET. 1.4 # Generate the Plot (with Error Bars)\n",
    "plt.subplots(nrows=3, ncols=3, sharex=True, sharey=True, squeeze=True, subplot_kw=None, gridspec_kw=None)\n",
    "fig, ax = \n",
    "ax.errorbar(np.arange(0, len(munging_se_mtv), 1)+1, munging_mtv[\"Capomulin\"], marker=\"o\", yerr=munging_se_mtv[\"Capomulin\"], label=\"Capomulin\")\n",
    "ax.set_xlim(0, len(munging_mtv)+1)\n",
    "ax.set_xlabel(\"Time\")\n",
    "ax.set_ylabel(\"Mean Tumor Volume\")\n",
    "plt.legend(loc=\"best\", fontsize=\"small\", fancybox=True)\n",
    "plt.show()"
   ]
  },
  {
   "cell_type": "code",
   "execution_count": null,
   "metadata": {},
   "outputs": [],
   "source": [
    "# Scatter plot based upon the above data\n",
    "plt.scatter(munging_mtv[\"Timepoint\"], munging_mtv[\"Capomulin\"], marker=\"o\", facecolors=\"red\", edgecolors=\"red\")\n",
    "#Drug\tTimepoint\tTumor Volume (mm3)\n",
    "plt.title(\"Capomulin\")\n",
    "plt.xlabel(\"Time\")\n",
    "plt.ylabel(\"Tumor Volume over time\")"
   ]
  },
  {
   "cell_type": "code",
   "execution_count": null,
   "metadata": {},
   "outputs": [],
   "source": []
  },
  {
   "cell_type": "code",
   "execution_count": null,
   "metadata": {},
   "outputs": [],
   "source": [
    "# Generate the plot data for each drug \n",
    "means = [tutti_data[\"Drug\"].mean() for Drug in vehicle_sample_set]\n",
    "standard_errors = [sem(sample.Combined_MPG) for sample in vehicle_sample_set]\n",
    "x_axis = np.arange(0, len(vehicle_sample_set), 1) + 1"
   ]
  },
  {
   "cell_type": "code",
   "execution_count": null,
   "metadata": {},
   "outputs": [],
   "source": []
  },
  {
   "cell_type": "code",
   "execution_count": null,
   "metadata": {},
   "outputs": [],
   "source": []
  },
  {
   "cell_type": "code",
   "execution_count": null,
   "metadata": {},
   "outputs": [],
   "source": []
  },
  {
   "cell_type": "code",
   "execution_count": null,
   "metadata": {},
   "outputs": [],
   "source": [
    "# Generate the plot data for each sample \n",
    "means = [py_mtv.Combined_MPG.mean() for sample in vehicle_sample_set]\n",
    "standard_errors = [sem(sample.Combined_MPG) for sample in vehicle_sample_set]\n",
    "x_axis = np.arange(0, len(vehicle_sample_set), 1) + 1"
   ]
  },
  {
   "cell_type": "code",
   "execution_count": null,
   "metadata": {},
   "outputs": [],
   "source": []
  },
  {
   "cell_type": "code",
   "execution_count": null,
   "metadata": {},
   "outputs": [],
   "source": [
    "# Reset index\n",
    "r_munging_mtv = munging_mtv.reset_index()\n",
    "#r_munging_mtv\n",
    "\n",
    "r_munging_se_mtv = munging_se_mtv.reset_index()\n",
    "#r_munging_se_mtv\n",
    "\n",
    "# Kind of variable \"timepoint\" is here?\n",
    "#r_munging_mtv.dtypes\n",
    "#r_munging_se_mtv.dtypes"
   ]
  },
  {
   "cell_type": "code",
   "execution_count": null,
   "metadata": {},
   "outputs": [],
   "source": []
  },
  {
   "cell_type": "code",
   "execution_count": null,
   "metadata": {},
   "outputs": [],
   "source": [
    "# Scatter plot based upon the above data\n",
    "capomulin_mtv, = plt.plot(r_munging_mtv[\"Timepoint\"], r_munging_mtv[\"Capomulin\"], marker=\"o\", color=\"red\", label=\"Capomulin\")\n",
    "ceftamin_mtv, = plt.plot(r_munging_mtv[\"Timepoint\"], r_munging_mtv[\"Ceftamin\"], marker=\"^\", color=\"blue\", label=\"Ceftamin\")\n",
    "\n",
    "# Create a legend for our chart\n",
    "plt.legend(handles=[capomulin_mtv, ceftamin_mtv], loc=\"best\")\n",
    "\n",
    "# Show the chart\n",
    "plt.show()"
   ]
  },
  {
   "cell_type": "code",
   "execution_count": null,
   "metadata": {},
   "outputs": [],
   "source": []
  },
  {
   "cell_type": "code",
   "execution_count": null,
   "metadata": {},
   "outputs": [],
   "source": [
    "# Task 1. Creating a scatter plot that shows how the tumor volume changes over time for each treatment.\n",
    "    # Formatting: You must use proper labeling of your plots, including aspects like: \n",
    "    # Formatting: Plot Titles, Axes Labels, Legend Labels, X and Y Axis Limits, etc.\n",
    "    # Formatting: Your scatter plots must include error bars.\n",
    "   "
   ]
  },
  {
   "cell_type": "code",
   "execution_count": null,
   "metadata": {},
   "outputs": [],
   "source": []
  },
  {
   "cell_type": "code",
   "execution_count": null,
   "metadata": {},
   "outputs": [],
   "source": []
  },
  {
   "cell_type": "code",
   "execution_count": null,
   "metadata": {},
   "outputs": [],
   "source": []
  },
  {
   "cell_type": "code",
   "execution_count": null,
   "metadata": {},
   "outputs": [],
   "source": []
  },
  {
   "cell_type": "code",
   "execution_count": null,
   "metadata": {},
   "outputs": [],
   "source": []
  },
  {
   "cell_type": "code",
   "execution_count": null,
   "metadata": {},
   "outputs": [],
   "source": []
  },
  {
   "cell_type": "code",
   "execution_count": null,
   "metadata": {},
   "outputs": [],
   "source": []
  },
  {
   "cell_type": "code",
   "execution_count": null,
   "metadata": {},
   "outputs": [],
   "source": [
    "# With Re-index\n",
    "# Store the variable requested (e.g., Mean Tumor Volume) Grouped by Drug and Timepoint \n",
    "g_by_d_and_t = tutti_data_reindex.groupby([\"Drug\"])\n",
    "mtv = g_by_d_and_t[\"Tumor Volume (mm3)\"].mean()\n",
    "mms = g_by_d_and_t[\"Metastatic Sites\"].mean()\n",
    "n_mice = g_by_d_and_t[\"Mouse ID\"].nunique()\n",
    "mtv_se = g_by_d_and_t[\"Tumor Volume (mm3)\"].sem()\n",
    "mms_se = g_by_d_and_t[\"Metastatic Sites\"].sem()\n",
    "\n",
    "# Convert to DataFrames\n",
    "mtv_by_drug_time_df = pd.DataFrame({\"Mean Tumor Volume (mm3)\" : mtv})\n",
    "mms_by_drug_time_df = pd.DataFrame({\"Mean Metastatic Sites\" : mms})\n",
    "nmice_by_drug_time_df = pd.DataFrame({\"Mouse Count\" : n_mice})\n",
    "\n",
    "# Task 1. Tumor Response to Treatment\n",
    "# Task 1.1 Preview DataFrame\n",
    "mtv_by_drug_time_df"
   ]
  },
  {
   "cell_type": "code",
   "execution_count": null,
   "metadata": {},
   "outputs": [],
   "source": [
    "# Merge our two data frames together\n",
    "combined_mtv_data = pd.merge(munging_mtv, munging_se_mtv, on=\"Timepoint\")\n",
    "combined_mtv_data.head()"
   ]
  },
  {
   "cell_type": "code",
   "execution_count": null,
   "metadata": {},
   "outputs": [],
   "source": [
    "# Rename columns\n",
    "combined_mtv_data = combined_mtv_data.rename(columns={\"Capomulin_x\":\"Capomulin_mean\", \"Ceftamin_x\":\"Ceftamin_mean\",\n",
    "                                                      \"Infubinol_x\":\"Infubinol_mean\", \"Ketapril_x\": \"Ketapril_mean\",\n",
    "                                                      \"Naftisol_x\":\"Naftisol_mean\", \"Placebo_x\": \"Pacebo_mean\",\n",
    "                                                      \"Propriva_x\": \"Propriva_mean\", \"Ramicane_x\": \"Ramicane_mean\",\n",
    "                                                      \"Stelasyn_x\": \"Stelasyn_mean\", \"Zoniferol_x\":\"Zoniferol_mean\", \n",
    "                                                      \"Capomulin_y\":\"Capomulin_SE\", \"Ceftamin_y\":\"Ceftamin_SE\",\n",
    "                                                      \"Infubinol_y\":\"Infubinol_SE\", \"Ketapril_y\": \"Ketapril_SE\",\n",
    "                                                      \"Naftisol_y\":\"Naftisol_SE\", \"Placebo_y\": \"Pacebo_SE\",\n",
    "                                                      \"Propriva_y\": \"Propriva_SE\", \"Ramicane_y\": \"Ramicane_SE\",\n",
    "                                                      \"Stelasyn_y\": \"Stelasyn_SE\", \"Zoniferol_y\":\"Zoniferol_SE\"})\n",
    "# Print\n",
    "combined_mtv_data.head()"
   ]
  },
  {
   "cell_type": "code",
   "execution_count": null,
   "metadata": {},
   "outputs": [],
   "source": [
    "# Create a scatter plot which compares timepoint to Drug_mean\n",
    "combined_mtv_data.plot(kind=\"scatter\", x=\"Timepoint\", y=\"Capomulin_mean\", grid=True, figsize=(8,8),\n",
    "              title=\"Mean Tumor Volume over Time\")\n",
    "plt.show()"
   ]
  },
  {
   "cell_type": "code",
   "execution_count": null,
   "metadata": {},
   "outputs": [],
   "source": [
    "# Create a scatter plot which compares timepoint to Drug_mean\n",
    "combined_mtv_data.plot(kind=\"scatter\", x=\"Timepoint\", y=\"Capomulin_mean\", grid=True, figsize=(8,8),\n",
    "              title=\"Mean Tumor Volume over Time\")\n",
    "plt.show()"
   ]
  },
  {
   "cell_type": "code",
   "execution_count": null,
   "metadata": {},
   "outputs": [],
   "source": []
  },
  {
   "cell_type": "code",
   "execution_count": null,
   "metadata": {},
   "outputs": [],
   "source": [
    "# 1.4 Generate the BoxPlot (with Error Bars)"
   ]
  },
  {
   "cell_type": "code",
   "execution_count": null,
   "metadata": {},
   "outputs": [],
   "source": [
    "\n",
    "\n",
    "\n",
    "#ax.errorbar(munging_se_mtv, munging_mtv[\"Capomulin\"], yerr=munging_se_mtv[\"Capomulin\"], label=\"Mean of Tumor Volume\")\n",
    "#ax.set_xlim(0, len(munging_mtv)+1)\n",
    "#ax.set_xlabel(\"Time\")\n",
    "#ax.set_ylabel(\"Mean Tumor Volume\")\n",
    "#plt.legend(loc=\"best\", fontsize=\"small\", fancybox=True)\n",
    "\n",
    "#x = munging_mtv[\"Capomulin\"]\n",
    "#y = munging_se_mtv[\"Capomulin\"]\n",
    "#yerr = np.linspace(0.05, 0.2, 10)\n",
    "\n",
    "fig, ax = plt.subplots()\n",
    "plt.scatter(mtv_by_drug_time_df, munging_mtv, marker=\"o\", facecolors=\"red\", edgecolors=\"black\")\n",
    "x = munging_mtv[\"Capomulin\"]\n",
    "y = munging_se_mtv[\"Capomulin\"]\n",
    "yerr = np.linspace(0.05, 0.2, 10)\n",
    "plt.errorbar(x, y, yerr=yerr, uplims=True, lolims=True, label=\"This option\")\n",
    "#fig, ax = plt.subplots()\n",
    "#ax.errorbar(munging_se_mtv, munging_mtv, label=\"Mean of Tumor Volume\")\n",
    "\n",
    "# Show the Figure\n",
    "plt.show()\n",
    "\n",
    "\n",
    "#fig = plt.figure()\n",
    "#x = np.arange(10)\n",
    "#y = 2.5 * np.sin(x / 20 * np.pi)\n",
    "#yerr = np.linspace(0.05, 0.2, 10)\n",
    "#plt.errorbar(x, y + 3, yerr=yerr, label='both limits (default)')\n",
    "#plt.errorbar(x, y + 2, yerr=yerr, uplims=True, label='uplims=True')\n",
    "#plt.errorbar(x, y + 1, yerr=yerr, uplims=True, lolims=True, label=\"This option\")\n",
    "#upperlimits = [True, False] * 5\n",
    "#lowerlimits = [False, True] * 5\n",
    "#plt.errorbar(x, y, yerr=yerr, uplims=upperlimits, lolims=lowerlimits,label='subsets of uplims and lolims')\n",
    "\n",
    "\n",
    "\n",
    "\n",
    "#plt.ylim(180,620)\n",
    "#plt.xlim(11,26)\n",
    "#plt.title(\"Ice Cream Sales v Temperature\")\n",
    "#plt.xlabel(\"Temperature (Celsius)\")\n",
    "#plt.ylabel(\"Sales (Dollars)\")\n",
    "\n",
    "\n",
    "# THIS KIND OF WORK, BUT NOT YET. 1.4 # Generate the Plot (with Error Bars)\n",
    "#fig, ax = plt.subplots()\n",
    "#ax.errorbar(np.arange(0, len(munging_se_mtv), 1)+1, munging_mtv[\"Capomulin\"], yerr=munging_se_mtv[\"Capomulin\"], label=\"Mean of Tumor Volume\")\n",
    "#ax.set_xlim(0, len(munging_mtv)+1)\n",
    "#ax.set_xlabel(\"Time\")\n",
    "#ax.set_ylabel(\"Mean Tumor Volume\")\n",
    "#plt.legend(loc=\"best\", fontsize=\"small\", fancybox=True)\n",
    "#plt.show()\n",
    "\n",
    "\n",
    "# Save the Figure\n",
    "\n"
   ]
  },
  {
   "cell_type": "code",
   "execution_count": null,
   "metadata": {},
   "outputs": [],
   "source": [
    "# 1.4 # Generate the Plot (with Error Bars)\n",
    "#fig, ax = plt.subplots()\n",
    "#ax.errorbar(np.arange(0, len(mtv_by_drug_time_df), 1)+1, means, yerr=munging_se_mtv, fmt=\"o\", color=\"r\", alpha=0.5, label=\"Mean of Whatever\")\n",
    "#ax.set_xlim(0, len(means)+1)\n",
    "#ax.set_xlabel(\"Time\")\n",
    "#ax.set_ylabel(\"Mean Tumor Volume\")\n",
    "#plt.legend(loc=\"best\", fontsize=\"small\", fancybox=True)\n",
    "#plt.show()\n",
    "\n",
    "# Save the Figure\n",
    "\n",
    "# Show the Figure"
   ]
  },
  {
   "cell_type": "code",
   "execution_count": null,
   "metadata": {},
   "outputs": [],
   "source": [
    "# Task 2. Metastatic Response to Treatment\n",
    "# Task 2.1 Preview DataFrame\n",
    "mms_by_drug_time_df"
   ]
  },
  {
   "cell_type": "code",
   "execution_count": null,
   "metadata": {},
   "outputs": [],
   "source": [
    "# Task 2.2 Store the Standard Error associated with Met. Sites Grouped by Drug and Timepoint \n",
    "# Convert to DataFrames\n",
    "# Preview DataFrame\n",
    "se_mms_by_drug_time_df"
   ]
  },
  {
   "cell_type": "code",
   "execution_count": null,
   "metadata": {},
   "outputs": [],
   "source": [
    "# 2.3 Minor Data Munging to Re-Format the Data Frames\n",
    "# Preview that Reformatting worked\n",
    "# Using Pivot_table, then rearange the columns and print\n",
    "munging_mms = pd.pivot_table(mms_by_drug_time_df,values=\"Mean Metastatic Sites\", index=\"Timepoint\", columns=\"Drug\")\n",
    "munging_mms.head()"
   ]
  },
  {
   "cell_type": "code",
   "execution_count": null,
   "metadata": {},
   "outputs": [],
   "source": [
    "# Task 3. Survival Rates\n",
    "# Task 3.1 Preview DataFrame\n",
    "nmice_by_drug_time_df"
   ]
  },
  {
   "cell_type": "code",
   "execution_count": null,
   "metadata": {},
   "outputs": [],
   "source": [
    "# This step is not needed for the Survival activity\n",
    "\n",
    "# Convert to DataFrames\n",
    "\n",
    "# Minor Data Munging to Re-Format the Data Frames\n",
    "# Preview that Reformatting worked\n",
    "\n",
    "# Preview DataFrame"
   ]
  },
  {
   "cell_type": "code",
   "execution_count": null,
   "metadata": {},
   "outputs": [],
   "source": [
    "# Generate the Plot (with Error Bars)\n",
    "\n",
    "# Save the Figure\n",
    "\n",
    "# Show the Figure\n",
    "#plt.show()"
   ]
  },
  {
   "cell_type": "code",
   "execution_count": null,
   "metadata": {},
   "outputs": [],
   "source": [
    "# Make a variable called \"drug_name\" and store a \"drug\" in it\n",
    "#drug_name = \"SEA00001\"\n",
    "# (Capomulin, Ceftamin, Infubinol, Ketapril, Naftisol, Placebo, Propriva, Ramicane, Stelasyn, Zoniferol)\n",
    "\n",
    "# Collect the trips of the 'bikeid' above\n",
    "#just_capo = sum_it_up.loc[bike_id]\n",
    "\n",
    "# Place the gender keys for that single bike into a list\n",
    "#gender_list = just_capo.keys()"
   ]
  },
  {
   "cell_type": "code",
   "execution_count": null,
   "metadata": {},
   "outputs": [],
   "source": [
    "# Task 1. Trying different options\n",
    "\n",
    "# Set line\n",
    "#(slope, intercept, _, _, _) = linregress(x_axis, fake)\n",
    "#fit = slope * x_axis + intercept\n",
    "\n",
    "# Plot data\n",
    "#fig, ax = plt.subplots()\n",
    "\n",
    "#fig.suptitle(\"Fake Banana Data!\", fontsize=16, fontweight=\"bold\")\n",
    "\n",
    "#ax.set_xlim(0, 10)\n",
    "#ax.set_ylim(0, 10)\n",
    "\n",
    "#ax.set_xlabel(\"Fake Banana Ages (in days)\")\n",
    "#ax.set_ylabel(\"Fake Banana Weights (in Hundres of Kilograms)\")\n",
    "\n",
    "#ax.plot(x_axis, fake, linewidth=0, marker='o')\n",
    "#ax.plot(x_axis, fit, 'b--')\n",
    "\n",
    "#plt.show()"
   ]
  },
  {
   "cell_type": "code",
   "execution_count": null,
   "metadata": {},
   "outputs": [],
   "source": [
    "# Task 2. Creating a scatter plot that shows how the number of metastatic (cancer spreading) sites \n",
    "# changes over time for each treatment.\n",
    "    # Formatting: You must use proper labeling of your plots, including aspects like: \n",
    "    # Formatting: Plot Titles, Axes Labels, Legend Labels, X and Y Axis Limits, etc.\n",
    "    # Formatting: Your scatter plots must include error bars."
   ]
  },
  {
   "cell_type": "code",
   "execution_count": null,
   "metadata": {},
   "outputs": [],
   "source": [
    "# Task 3. Creating a scatter plot that shows the number of mice still alive \n",
    "# through the course of treatment (Survival Rate)\n",
    "    # Formatting: You must use proper labeling of your plots, including aspects like: \n",
    "    # Formatting: Plot Titles, Axes Labels, Legend Labels, X and Y Axis Limits, etc.\n",
    "    # Formatting: Your scatter plots must include error bars.\n"
   ]
  },
  {
   "cell_type": "code",
   "execution_count": null,
   "metadata": {},
   "outputs": [],
   "source": [
    "# Task 4. Creating a bar graph that compares the total % tumor volume change for each drug across the full 45 days.\n",
    "    # Formatting: Titles, Axes Labels, Legend Labels, etc.\n",
    "    # Formatting: Your bar graph should indicate tumor growth as red and tumor reduction as green.\n",
    "    # Formatting: It should also include a label with the percentage change for each bar. \n"
   ]
  },
  {
   "cell_type": "code",
   "execution_count": null,
   "metadata": {},
   "outputs": [],
   "source": [
    "# Task 5. Include 3 observations about the results of the study. Use the visualizations you generated \n",
    "# from the study data as the basis for your observations."
   ]
  },
  {
   "cell_type": "code",
   "execution_count": null,
   "metadata": {},
   "outputs": [],
   "source": [
    "# Generate groups by treatments \n",
    "# (Capomulin, Ceftamin, Infubinol, Ketapril, Naftisol, Placebo, Propriva, Ramicane, Stelasyn, Zoniferol)\n",
    " \n",
    "# Using GroupBy in order to organize the data into fields according to \"Drugs/Treatments\"\n",
    "#capo_df = tutti_data.groupby([\"Drug\"])\n",
    "# In order to be visualized, a data function must be used\n",
    "# The numeric variables can be now calculated per drug\n",
    "#school_average_math = grouped_schools_df[\"math_score\"].mean()\n",
    "# Average Reading Score\n",
    "#school_average_reading = grouped_schools_df[\"reading_score\"].mean()\n",
    "# Looking for the ones that pass math per school\n",
    "#pass_math_per_school = pass_math_df.groupby([\"school_name\"])\n",
    "# In order to get the percentage passing math\n",
    "#perc_pass_math = (pass_math_per_school[\"Student ID\"].count() / grouped_schools_df[\"Student ID\"].count())*100\n",
    "# Looking for the ones that pass reading per school\n",
    "#pass_reading_per_school = pass_reading_df.groupby([\"school_name\"])\n",
    "# In order to get the percentage passing reading\n",
    "#perc_pass_reading = (pass_reading_per_school[\"Student ID\"].count()/grouped_schools_df[\"Student ID\"].count())*100\n",
    "# Overall Passing Rate (Average of math and reading)\n",
    "#perc_overall_passing = (perc_pass_math+perc_pass_reading)/2\n",
    "# Create a school summary for future calculations (tasks 7 and onward), but a formatted version for tasks 2,3 and 4.\n",
    "#school_summary = pd.DataFrame({\"Total Students\" : total_students, \n",
    "#                               \"Total School Budget\" : budget_per_school,\n",
    "#                               \"Per Student Budget\" : budget_per_student,\n",
    "#                               \"Average Math Score\" : school_average_math,\n",
    "#                               \"Average Reading Score\" : school_average_reading,\n",
    "#                               \"% Passing Math\" : perc_pass_math,\n",
    "#                               \"% Passing Reading\" : perc_pass_reading,\n",
    "#                               \"Overall Passing Rate\" : perc_overall_passing})\n",
    "# Now, print to make sure all OK \n",
    "#school_summary_f"
   ]
  },
  {
   "cell_type": "code",
   "execution_count": null,
   "metadata": {},
   "outputs": [],
   "source": []
  },
  {
   "cell_type": "code",
   "execution_count": null,
   "metadata": {},
   "outputs": [],
   "source": []
  }
 ],
 "metadata": {
  "kernelspec": {
   "display_name": "Python [conda env:PythonData] *",
   "language": "python",
   "name": "conda-env-PythonData-py"
  },
  "language_info": {
   "codemirror_mode": {
    "name": "ipython",
    "version": 3
   },
   "file_extension": ".py",
   "mimetype": "text/x-python",
   "name": "python",
   "nbconvert_exporter": "python",
   "pygments_lexer": "ipython3",
   "version": "3.6.9"
  }
 },
 "nbformat": 4,
 "nbformat_minor": 2
}
